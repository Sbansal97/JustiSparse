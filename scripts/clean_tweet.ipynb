{
 "cells": [
  {
   "cell_type": "code",
   "execution_count": 1,
   "metadata": {},
   "outputs": [],
   "source": [
    "import pandas as pd\n",
    "\n",
    "df1 = pd.read_csv('/usr1/datasets/sumita/comp-ethics/project/JustiSparse/data/Hate_Speech_Detection/DataSet/Waseem.csv')"
   ]
  },
  {
   "cell_type": "code",
   "execution_count": 2,
   "metadata": {},
   "outputs": [],
   "source": [
    "df2 = pd.read_csv('/usr1/datasets/sumita/comp-ethics/project/JustiSparse/data/Hate_Speech_Detection/DataSet/davidson.csv')"
   ]
  },
  {
   "cell_type": "code",
   "execution_count": 3,
   "metadata": {},
   "outputs": [],
   "source": [
    "df3 = pd.read_csv('/usr1/datasets/sumita/comp-ethics/project/JustiSparse/data/Hate_Speech_Detection/DataSet/founta_full_data.csv')"
   ]
  },
  {
   "cell_type": "code",
   "execution_count": null,
   "metadata": {},
   "outputs": [],
   "source": []
  }
 ],
 "metadata": {
  "interpreter": {
   "hash": "aba1d67bf70818cf9fa8f5276d0a7f9f8c2e35c9e3630138d0db97bcd29ef0f5"
  },
  "kernelspec": {
   "display_name": "Python 3.9.16 ('ethics-2')",
   "language": "python",
   "name": "python3"
  },
  "language_info": {
   "codemirror_mode": {
    "name": "ipython",
    "version": 3
   },
   "file_extension": ".py",
   "mimetype": "text/x-python",
   "name": "python",
   "nbconvert_exporter": "python",
   "pygments_lexer": "ipython3",
   "version": "3.9.16"
  },
  "orig_nbformat": 4
 },
 "nbformat": 4,
 "nbformat_minor": 2
}
