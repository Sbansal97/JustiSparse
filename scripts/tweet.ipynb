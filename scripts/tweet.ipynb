{
 "cells": [
  {
   "cell_type": "code",
   "execution_count": 5,
   "metadata": {},
   "outputs": [
    {
     "name": "stdout",
     "output_type": "stream",
     "text": [
      "Response(data=<Tweet id=1234567890 text='Αρσεναλ - Σάντερλαντ: (X) 0-0 τελικό'>, includes={}, errors=[], meta={})\n"
     ]
    }
   ],
   "source": [
    "import tweepy\n",
    "\n",
    "# Set up authentication\n",
    "consumer_key = 'FVD9YVKRpEZp29u5uXPdA5gRl'\n",
    "consumer_secret = 'MUCGbRMD2PTqwWcndma0rrvfYJNUtAqZBuuyNuKmGNJeQk2hVv'\n",
    "access_token = '1147363514-gv3VDsnQXbffJhBhpmkeciiMRXucOiMyouokwTQ'\n",
    "access_token_secret = 'snzLZDhdz2C8qsSSSccNX4fLJBCfFxHKbFIR0U15VZXGF'\n",
    "\n",
    "\n",
    "\n",
    "\n",
    "\n",
    "\n",
    "\n",
    "client = tweepy.Client(bearer_token = 'AAAAAAAAAAAAAAAAAAAAAOXVdgEAAAAAbO3dOUQ6Bvv%2BFSWIwL49JIgYag0%3DSohrfZQVKPR97IORuyVbj9GBGv5dhoVFAaw5uYo0HK4v6X94uc')\n",
    "\n"
   ]
  },
  {
   "cell_type": "code",
   "execution_count": 9,
   "metadata": {},
   "outputs": [
    {
     "name": "stdout",
     "output_type": "stream",
     "text": [
      "Response(data=<Tweet id=848791766853668864 text='RT @ItIzBiz: as Nancy Reagan would say, \\'just say FUCKING NO!\"\\nor something like that... https://t.co/ZaxB2gCq5v'>, includes={}, errors=[], meta={})\n"
     ]
    }
   ],
   "source": [
    "# Set the tweet ID to query\n",
    "tweet_id = '848791766853668864' # Replace with the actual tweet ID\n",
    "\n",
    "# Get the tweet\n",
    "tweet = client.get_tweet(tweet_id)\n",
    "\n",
    "# Print the tweet's text\n",
    "print(tweet)"
   ]
  },
  {
   "cell_type": "code",
   "execution_count": null,
   "metadata": {},
   "outputs": [],
   "source": []
  }
 ],
 "metadata": {
  "interpreter": {
   "hash": "aba1d67bf70818cf9fa8f5276d0a7f9f8c2e35c9e3630138d0db97bcd29ef0f5"
  },
  "kernelspec": {
   "display_name": "Python 3.9.16 ('ethics-2')",
   "language": "python",
   "name": "python3"
  },
  "language_info": {
   "codemirror_mode": {
    "name": "ipython",
    "version": 3
   },
   "file_extension": ".py",
   "mimetype": "text/x-python",
   "name": "python",
   "nbconvert_exporter": "python",
   "pygments_lexer": "ipython3",
   "version": "3.9.16"
  },
  "orig_nbformat": 4
 },
 "nbformat": 4,
 "nbformat_minor": 2
}
