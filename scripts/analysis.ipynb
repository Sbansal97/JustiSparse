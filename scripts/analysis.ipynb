{
 "cells": [
  {
   "cell_type": "code",
   "execution_count": 1,
   "metadata": {},
   "outputs": [],
   "source": [
    "def normalize(a):\n",
    "    return normalizeTweet(a.encode('utf-16', 'surrogatepass').decode('utf-16'))\n"
   ]
  },
  {
   "cell_type": "code",
   "execution_count": 3,
   "metadata": {},
   "outputs": [],
   "source": [
    "from emoji import demojize\n",
    "from nltk.tokenize import TweetTokenizer\n",
    "\n",
    "tokenizer = TweetTokenizer()\n",
    "\n",
    "\n",
    "def normalizeToken(token):\n",
    "    lowercased_token = token.lower()\n",
    "    if token.startswith(\"@\"):\n",
    "        return \"@USER\"\n",
    "    elif lowercased_token.startswith(\"http\") or lowercased_token.startswith(\"www\"):\n",
    "        return \"HTTPURL\"\n",
    "    elif len(token) == 1:\n",
    "        return demojize(token)\n",
    "    else:\n",
    "        if token == \"’\":\n",
    "            return \"'\"\n",
    "        elif token == \"…\":\n",
    "            return \"...\"\n",
    "        else:\n",
    "            return token\n",
    "\n",
    "\n",
    "def normalizeTweet(tweet):\n",
    "    tokens = tokenizer.tokenize(tweet.replace(\"’\", \"'\").replace(\"…\", \"...\"))\n",
    "    normTweet = \" \".join([normalizeToken(token) for token in tokens])\n",
    "\n",
    "    normTweet = (\n",
    "        normTweet.replace(\"cannot \", \"can not \")\n",
    "        .replace(\"n't \", \" n't \")\n",
    "        .replace(\"n 't \", \" n't \")\n",
    "        .replace(\"ca n't\", \"can't\")\n",
    "        .replace(\"ai n't\", \"ain't\")\n",
    "    )\n",
    "    normTweet = (\n",
    "        normTweet.replace(\"'m \", \" 'm \")\n",
    "        .replace(\"'re \", \" 're \")\n",
    "        .replace(\"'s \", \" 's \")\n",
    "        .replace(\"'ll \", \" 'll \")\n",
    "        .replace(\"'d \", \" 'd \")\n",
    "        .replace(\"'ve \", \" 've \")\n",
    "    )\n",
    "    normTweet = (\n",
    "        normTweet.replace(\" p . m .\", \"  p.m.\")\n",
    "        .replace(\" p . m \", \" p.m \")\n",
    "        .replace(\" a . m .\", \" a.m.\")\n",
    "        .replace(\" a . m \", \" a.m \")\n",
    "    )\n",
    "\n",
    "    return \" \".join(normTweet.split())"
   ]
  },
  {
   "cell_type": "code",
   "execution_count": 4,
   "metadata": {},
   "outputs": [
    {
     "name": "stdout",
     "output_type": "stream",
     "text": [
      "When your cousin calls you petty :OK_hand:\n"
     ]
    }
   ],
   "source": [
    "a = 'When your cousin calls you petty \\ud83d\\udc4c'\n",
    "print (normalize(a))"
   ]
  },
  {
   "cell_type": "code",
   "execution_count": 15,
   "metadata": {},
   "outputs": [],
   "source": [
    "def get_examples(path):\n",
    "    texts = []\n",
    "    with open(path) as f:\n",
    "        for line in f:\n",
    "            a = normalize(line.strip())\n",
    "            if len(a) > 10:\n",
    "                texts.append(a)\n",
    "    return texts"
   ]
  },
  {
   "cell_type": "code",
   "execution_count": 16,
   "metadata": {},
   "outputs": [],
   "source": [
    "datasets = ['emotion', 'hate', 'irony', 'offensive', 'sentiment']"
   ]
  },
  {
   "cell_type": "code",
   "execution_count": 17,
   "metadata": {},
   "outputs": [],
   "source": [
    "all_texts = set()\n",
    "for dataset in datasets:\n",
    "    all_texts.update(get_examples(f'/usr1/datasets/sumita/comp-ethics/project/tweeteval/datasets/{dataset}/train_text.txt'))"
   ]
  },
  {
   "cell_type": "code",
   "execution_count": 18,
   "metadata": {},
   "outputs": [
    {
     "data": {
      "text/plain": [
       "72506"
      ]
     },
     "execution_count": 18,
     "metadata": {},
     "output_type": "execute_result"
    }
   ],
   "source": [
    "len(all_texts)"
   ]
  },
  {
   "cell_type": "code",
   "execution_count": 19,
   "metadata": {},
   "outputs": [],
   "source": [
    "with open('../composable-sft/corpora/cda/tweet.txt', 'w') as f:\n",
    "    for text in all_texts:\n",
    "        f.write(text + '\\n')"
   ]
  },
  {
   "cell_type": "code",
   "execution_count": 2,
   "metadata": {},
   "outputs": [
    {
     "ename": "Unauthorized",
     "evalue": "401 Unauthorized\n89 - Invalid or expired token.",
     "output_type": "error",
     "traceback": [
      "\u001b[0;31m---------------------------------------------------------------------------\u001b[0m",
      "\u001b[0;31mUnauthorized\u001b[0m                              Traceback (most recent call last)",
      "Cell \u001b[0;32mIn[2], line 24\u001b[0m\n\u001b[1;32m     21\u001b[0m tweet_id \u001b[38;5;241m=\u001b[39m \u001b[38;5;124m'\u001b[39m\u001b[38;5;124m1234567890\u001b[39m\u001b[38;5;124m'\u001b[39m \u001b[38;5;66;03m# Replace with the actual tweet ID\u001b[39;00m\n\u001b[1;32m     23\u001b[0m \u001b[38;5;66;03m# Get the tweet\u001b[39;00m\n\u001b[0;32m---> 24\u001b[0m tweet \u001b[38;5;241m=\u001b[39m \u001b[43mapi\u001b[49m\u001b[38;5;241;43m.\u001b[39;49m\u001b[43mget_status\u001b[49m\u001b[43m(\u001b[49m\u001b[43mtweet_id\u001b[49m\u001b[43m)\u001b[49m\n\u001b[1;32m     26\u001b[0m \u001b[38;5;66;03m# Print the tweet's text\u001b[39;00m\n\u001b[1;32m     27\u001b[0m \u001b[38;5;28mprint\u001b[39m(tweet\u001b[38;5;241m.\u001b[39mtext)\n",
      "File \u001b[0;32m~/miniconda3/envs/ethics-2/lib/python3.9/site-packages/tweepy/api.py:46\u001b[0m, in \u001b[0;36mpayload.<locals>.decorator.<locals>.wrapper\u001b[0;34m(*args, **kwargs)\u001b[0m\n\u001b[1;32m     <a href='file:///home/sumita/miniconda3/envs/ethics-2/lib/python3.9/site-packages/tweepy/api.py?line=43'>44</a>\u001b[0m kwargs[\u001b[39m'\u001b[39m\u001b[39mpayload_list\u001b[39m\u001b[39m'\u001b[39m] \u001b[39m=\u001b[39m payload_list\n\u001b[1;32m     <a href='file:///home/sumita/miniconda3/envs/ethics-2/lib/python3.9/site-packages/tweepy/api.py?line=44'>45</a>\u001b[0m kwargs[\u001b[39m'\u001b[39m\u001b[39mpayload_type\u001b[39m\u001b[39m'\u001b[39m] \u001b[39m=\u001b[39m payload_type\n\u001b[0;32m---> <a href='file:///home/sumita/miniconda3/envs/ethics-2/lib/python3.9/site-packages/tweepy/api.py?line=45'>46</a>\u001b[0m \u001b[39mreturn\u001b[39;00m method(\u001b[39m*\u001b[39;49margs, \u001b[39m*\u001b[39;49m\u001b[39m*\u001b[39;49mkwargs)\n",
      "File \u001b[0;32m~/miniconda3/envs/ethics-2/lib/python3.9/site-packages/tweepy/api.py:739\u001b[0m, in \u001b[0;36mAPI.get_status\u001b[0;34m(self, id, **kwargs)\u001b[0m\n\u001b[1;32m    <a href='file:///home/sumita/miniconda3/envs/ethics-2/lib/python3.9/site-packages/tweepy/api.py?line=705'>706</a>\u001b[0m \u001b[39m@payload\u001b[39m(\u001b[39m'\u001b[39m\u001b[39mstatus\u001b[39m\u001b[39m'\u001b[39m)\n\u001b[1;32m    <a href='file:///home/sumita/miniconda3/envs/ethics-2/lib/python3.9/site-packages/tweepy/api.py?line=706'>707</a>\u001b[0m \u001b[39mdef\u001b[39;00m \u001b[39mget_status\u001b[39m(\u001b[39mself\u001b[39m, \u001b[39mid\u001b[39m, \u001b[39m*\u001b[39m\u001b[39m*\u001b[39mkwargs):\n\u001b[1;32m    <a href='file:///home/sumita/miniconda3/envs/ethics-2/lib/python3.9/site-packages/tweepy/api.py?line=707'>708</a>\u001b[0m \u001b[39m    \u001b[39m\u001b[39m\"\"\"get_status(id, *, trim_user, include_my_retweet, include_entities, \\\u001b[39;00m\n\u001b[1;32m    <a href='file:///home/sumita/miniconda3/envs/ethics-2/lib/python3.9/site-packages/tweepy/api.py?line=708'>709</a>\u001b[0m \u001b[39m                  include_ext_alt_text, include_card_uri)\u001b[39;00m\n\u001b[1;32m    <a href='file:///home/sumita/miniconda3/envs/ethics-2/lib/python3.9/site-packages/tweepy/api.py?line=709'>710</a>\u001b[0m \n\u001b[0;32m   (...)\u001b[0m\n\u001b[1;32m    <a href='file:///home/sumita/miniconda3/envs/ethics-2/lib/python3.9/site-packages/tweepy/api.py?line=736'>737</a>\u001b[0m \u001b[39m    https://developer.twitter.com/en/docs/twitter-api/v1/tweets/post-and-engage/api-reference/get-statuses-show-id\u001b[39;00m\n\u001b[1;32m    <a href='file:///home/sumita/miniconda3/envs/ethics-2/lib/python3.9/site-packages/tweepy/api.py?line=737'>738</a>\u001b[0m \u001b[39m    \"\"\"\u001b[39;00m\n\u001b[0;32m--> <a href='file:///home/sumita/miniconda3/envs/ethics-2/lib/python3.9/site-packages/tweepy/api.py?line=738'>739</a>\u001b[0m     \u001b[39mreturn\u001b[39;00m \u001b[39mself\u001b[39;49m\u001b[39m.\u001b[39;49mrequest(\n\u001b[1;32m    <a href='file:///home/sumita/miniconda3/envs/ethics-2/lib/python3.9/site-packages/tweepy/api.py?line=739'>740</a>\u001b[0m         \u001b[39m'\u001b[39;49m\u001b[39mGET\u001b[39;49m\u001b[39m'\u001b[39;49m, \u001b[39m'\u001b[39;49m\u001b[39mstatuses/show\u001b[39;49m\u001b[39m'\u001b[39;49m, endpoint_parameters\u001b[39m=\u001b[39;49m(\n\u001b[1;32m    <a href='file:///home/sumita/miniconda3/envs/ethics-2/lib/python3.9/site-packages/tweepy/api.py?line=740'>741</a>\u001b[0m             \u001b[39m'\u001b[39;49m\u001b[39mid\u001b[39;49m\u001b[39m'\u001b[39;49m, \u001b[39m'\u001b[39;49m\u001b[39mtrim_user\u001b[39;49m\u001b[39m'\u001b[39;49m, \u001b[39m'\u001b[39;49m\u001b[39minclude_my_retweet\u001b[39;49m\u001b[39m'\u001b[39;49m, \u001b[39m'\u001b[39;49m\u001b[39minclude_entities\u001b[39;49m\u001b[39m'\u001b[39;49m,\n\u001b[1;32m    <a href='file:///home/sumita/miniconda3/envs/ethics-2/lib/python3.9/site-packages/tweepy/api.py?line=741'>742</a>\u001b[0m             \u001b[39m'\u001b[39;49m\u001b[39minclude_ext_alt_text\u001b[39;49m\u001b[39m'\u001b[39;49m, \u001b[39m'\u001b[39;49m\u001b[39minclude_card_uri\u001b[39;49m\u001b[39m'\u001b[39;49m\n\u001b[1;32m    <a href='file:///home/sumita/miniconda3/envs/ethics-2/lib/python3.9/site-packages/tweepy/api.py?line=742'>743</a>\u001b[0m         ), \u001b[39mid\u001b[39;49m\u001b[39m=\u001b[39;49m\u001b[39mid\u001b[39;49m, \u001b[39m*\u001b[39;49m\u001b[39m*\u001b[39;49mkwargs\n\u001b[1;32m    <a href='file:///home/sumita/miniconda3/envs/ethics-2/lib/python3.9/site-packages/tweepy/api.py?line=743'>744</a>\u001b[0m     )\n",
      "File \u001b[0;32m~/miniconda3/envs/ethics-2/lib/python3.9/site-packages/tweepy/api.py:269\u001b[0m, in \u001b[0;36mAPI.request\u001b[0;34m(self, method, endpoint, endpoint_parameters, params, headers, json_payload, parser, payload_list, payload_type, post_data, files, require_auth, return_cursors, upload_api, use_cache, **kwargs)\u001b[0m\n\u001b[1;32m    <a href='file:///home/sumita/miniconda3/envs/ethics-2/lib/python3.9/site-packages/tweepy/api.py?line=266'>267</a>\u001b[0m     \u001b[39mraise\u001b[39;00m BadRequest(resp)\n\u001b[1;32m    <a href='file:///home/sumita/miniconda3/envs/ethics-2/lib/python3.9/site-packages/tweepy/api.py?line=267'>268</a>\u001b[0m \u001b[39mif\u001b[39;00m resp\u001b[39m.\u001b[39mstatus_code \u001b[39m==\u001b[39m \u001b[39m401\u001b[39m:\n\u001b[0;32m--> <a href='file:///home/sumita/miniconda3/envs/ethics-2/lib/python3.9/site-packages/tweepy/api.py?line=268'>269</a>\u001b[0m     \u001b[39mraise\u001b[39;00m Unauthorized(resp)\n\u001b[1;32m    <a href='file:///home/sumita/miniconda3/envs/ethics-2/lib/python3.9/site-packages/tweepy/api.py?line=269'>270</a>\u001b[0m \u001b[39mif\u001b[39;00m resp\u001b[39m.\u001b[39mstatus_code \u001b[39m==\u001b[39m \u001b[39m403\u001b[39m:\n\u001b[1;32m    <a href='file:///home/sumita/miniconda3/envs/ethics-2/lib/python3.9/site-packages/tweepy/api.py?line=270'>271</a>\u001b[0m     \u001b[39mraise\u001b[39;00m Forbidden(resp)\n",
      "\u001b[0;31mUnauthorized\u001b[0m: 401 Unauthorized\n89 - Invalid or expired token."
     ]
    }
   ],
   "source": []
  },
  {
   "cell_type": "code",
   "execution_count": null,
   "metadata": {},
   "outputs": [],
   "source": []
  }
 ],
 "metadata": {
  "interpreter": {
   "hash": "cf7aa6ba8a480b2a8dc3fea565def7b78a1b07f5c1e8e63bc5aa92e0a95cf88f"
  },
  "kernelspec": {
   "display_name": "Python 3.9.16 ('ethics-1')",
   "language": "python",
   "name": "python3"
  },
  "language_info": {
   "codemirror_mode": {
    "name": "ipython",
    "version": 3
   },
   "file_extension": ".py",
   "mimetype": "text/x-python",
   "name": "python",
   "nbconvert_exporter": "python",
   "pygments_lexer": "ipython3",
   "version": "3.9.16"
  },
  "orig_nbformat": 4
 },
 "nbformat": 4,
 "nbformat_minor": 2
}
