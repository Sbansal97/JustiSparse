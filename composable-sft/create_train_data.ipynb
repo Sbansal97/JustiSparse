{
 "cells": [
  {
   "cell_type": "code",
   "execution_count": 1,
   "metadata": {},
   "outputs": [],
   "source": [
    "from datasets import load_dataset"
   ]
  },
  {
   "cell_type": "code",
   "execution_count": 2,
   "metadata": {},
   "outputs": [
    {
     "name": "stdout",
     "output_type": "stream",
     "text": [
      "/home/adityasv/.cache/huggingface/datasets/_home_adityasv_.cache_huggingface_datasets_parquet_default-32355b700e3c99c7_0.0.0_2a3b91fbd88a2c90d1dbbb32b460cf621d31bd5b05b934492fdef7d8d6f236ec.lock\n"
     ]
    },
    {
     "name": "stderr",
     "output_type": "stream",
     "text": [
      "Found cached dataset parquet (/home/adityasv/.cache/huggingface/datasets/parquet/default-32355b700e3c99c7/0.0.0/2a3b91fbd88a2c90d1dbbb32b460cf621d31bd5b05b934492fdef7d8d6f236ec)\n"
     ]
    },
    {
     "data": {
      "application/vnd.jupyter.widget-view+json": {
       "model_id": "412b05d3cf1449c58afd46a12d3be43b",
       "version_major": 2,
       "version_minor": 0
      },
      "text/plain": [
       "  0%|          | 0/3 [00:00<?, ?it/s]"
      ]
     },
     "metadata": {},
     "output_type": "display_data"
    }
   ],
   "source": [
    "dataset = load_dataset('parquet', data_files={'train': \"../data/bias-bios/biasbios_train.pq\", 'test': \"../data/bias-bios/biasbios_test.pq\", 'validation': \"../data/bias-bios/biasbios_val.pq\"})"
   ]
  },
  {
   "cell_type": "code",
   "execution_count": 3,
   "metadata": {},
   "outputs": [
    {
     "data": {
      "text/plain": [
       "DatasetDict({\n",
       "    train: Dataset({\n",
       "        features: ['g', 'p', 'text', 'start', 'hard_text', 'hard_text_untokenized', 'text_without_gender'],\n",
       "        num_rows: 255710\n",
       "    })\n",
       "    test: Dataset({\n",
       "        features: ['g', 'p', 'text', 'start', 'hard_text', 'hard_text_untokenized', 'text_without_gender'],\n",
       "        num_rows: 98344\n",
       "    })\n",
       "    validation: Dataset({\n",
       "        features: ['g', 'p', 'text', 'start', 'hard_text', 'hard_text_untokenized', 'text_without_gender'],\n",
       "        num_rows: 39369\n",
       "    })\n",
       "})"
      ]
     },
     "execution_count": 3,
     "metadata": {},
     "output_type": "execute_result"
    }
   ],
   "source": [
    "dataset"
   ]
  },
  {
   "cell_type": "code",
   "execution_count": 7,
   "metadata": {},
   "outputs": [
    {
     "name": "stdout",
     "output_type": "stream",
     "text": [
      "Dataset({\n",
      "    features: ['g', 'p', 'text', 'start', 'hard_text', 'hard_text_untokenized', 'text_without_gender'],\n",
      "    num_rows: 255710\n",
      "})\n"
     ]
    },
    {
     "data": {
      "application/vnd.jupyter.widget-view+json": {
       "model_id": "b7239bc664bc4b3792ec77ef6cdb7dd1",
       "version_major": 2,
       "version_minor": 0
      },
      "text/plain": [
       "Creating json from Arrow format:   0%|          | 0/256 [00:00<?, ?ba/s]"
      ]
     },
     "metadata": {},
     "output_type": "display_data"
    },
    {
     "name": "stdout",
     "output_type": "stream",
     "text": [
      "Dataset({\n",
      "    features: ['g', 'p', 'text', 'start', 'hard_text', 'hard_text_untokenized', 'text_without_gender'],\n",
      "    num_rows: 39369\n",
      "})\n"
     ]
    },
    {
     "data": {
      "application/vnd.jupyter.widget-view+json": {
       "model_id": "6213beaef7d94f6caf4a16f4264c397c",
       "version_major": 2,
       "version_minor": 0
      },
      "text/plain": [
       "Creating json from Arrow format:   0%|          | 0/40 [00:00<?, ?ba/s]"
      ]
     },
     "metadata": {},
     "output_type": "display_data"
    },
    {
     "name": "stdout",
     "output_type": "stream",
     "text": [
      "Dataset({\n",
      "    features: ['g', 'p', 'text', 'start', 'hard_text', 'hard_text_untokenized', 'text_without_gender'],\n",
      "    num_rows: 98344\n",
      "})\n"
     ]
    },
    {
     "data": {
      "application/vnd.jupyter.widget-view+json": {
       "model_id": "00f801572301419b84db8d2cb4ac6798",
       "version_major": 2,
       "version_minor": 0
      },
      "text/plain": [
       "Creating json from Arrow format:   0%|          | 0/99 [00:00<?, ?ba/s]"
      ]
     },
     "metadata": {},
     "output_type": "display_data"
    }
   ],
   "source": [
    "label_set = set()\n",
    "\n",
    "for split in ['train', 'validation', 'test']:\n",
    "    split_dataset = dataset[split]\n",
    "    print(split_dataset)\n",
    "    split_dataset = split_dataset.rename_column('hard_text','sentence')\n",
    "    split_dataset = split_dataset.rename_column('p','label')\n",
    "    split_labels = set(split_dataset['label'])\n",
    "\n",
    "    label_set.update(split_labels)\n",
    "\n",
    "    split_dataset.to_json(f'/projects/tir6/general/adityasv/JustiSparse/composable-sft/examples/text-classification-debias/biosbias/data/{split}.json')\n",
    "\n",
    "with open('/projects/tir6/general/adityasv/JustiSparse/composable-sft/examples/text-classification-debias/biosbias/data/labels.txt','w') as fo:\n",
    "    for i in label_set:\n",
    "        fo.write(i+'\\n')"
   ]
  },
  {
   "cell_type": "code",
   "execution_count": 8,
   "metadata": {},
   "outputs": [
    {
     "data": {
      "text/plain": [
       "{'accountant',\n",
       " 'architect',\n",
       " 'attorney',\n",
       " 'chiropractor',\n",
       " 'comedian',\n",
       " 'composer',\n",
       " 'dentist',\n",
       " 'dietitian',\n",
       " 'dj',\n",
       " 'filmmaker',\n",
       " 'interior_designer',\n",
       " 'journalist',\n",
       " 'model',\n",
       " 'nurse',\n",
       " 'painter',\n",
       " 'paralegal',\n",
       " 'pastor',\n",
       " 'personal_trainer',\n",
       " 'photographer',\n",
       " 'physician',\n",
       " 'poet',\n",
       " 'professor',\n",
       " 'psychologist',\n",
       " 'rapper',\n",
       " 'software_engineer',\n",
       " 'surgeon',\n",
       " 'teacher',\n",
       " 'yoga_teacher'}"
      ]
     },
     "execution_count": 8,
     "metadata": {},
     "output_type": "execute_result"
    }
   ],
   "source": [
    "label_set"
   ]
  },
  {
   "cell_type": "code",
   "execution_count": 9,
   "metadata": {},
   "outputs": [
    {
     "name": "stdout",
     "output_type": "stream",
     "text": [
      "/home/adityasv/.cache/huggingface/datasets/_home_adityasv_.cache_huggingface_datasets_json_default-f6da04ce62e39d8c_0.0.0_0f7e3662623656454fcd2b650f34e886a7db4b9104504885bd462096cc7a9f51.lock\n",
      "Downloading and preparing dataset json/default to /home/adityasv/.cache/huggingface/datasets/json/default-f6da04ce62e39d8c/0.0.0/0f7e3662623656454fcd2b650f34e886a7db4b9104504885bd462096cc7a9f51...\n"
     ]
    },
    {
     "data": {
      "application/vnd.jupyter.widget-view+json": {
       "model_id": "0a180660c0f94329b3b8449acfba835a",
       "version_major": 2,
       "version_minor": 0
      },
      "text/plain": [
       "Downloading data files:   0%|          | 0/3 [00:00<?, ?it/s]"
      ]
     },
     "metadata": {},
     "output_type": "display_data"
    },
    {
     "data": {
      "application/vnd.jupyter.widget-view+json": {
       "model_id": "8604a7eb149d484e8e94953c509ab6d0",
       "version_major": 2,
       "version_minor": 0
      },
      "text/plain": [
       "Extracting data files:   0%|          | 0/3 [00:00<?, ?it/s]"
      ]
     },
     "metadata": {},
     "output_type": "display_data"
    },
    {
     "data": {
      "application/vnd.jupyter.widget-view+json": {
       "model_id": "a455dbad7f994bb3a9391f439a71cef4",
       "version_major": 2,
       "version_minor": 0
      },
      "text/plain": [
       "Generating train split: 0 examples [00:00, ? examples/s]"
      ]
     },
     "metadata": {},
     "output_type": "display_data"
    },
    {
     "data": {
      "application/vnd.jupyter.widget-view+json": {
       "model_id": "fa992b8ff2474df4a7f403d4f234b362",
       "version_major": 2,
       "version_minor": 0
      },
      "text/plain": [
       "Generating test split: 0 examples [00:00, ? examples/s]"
      ]
     },
     "metadata": {},
     "output_type": "display_data"
    },
    {
     "data": {
      "application/vnd.jupyter.widget-view+json": {
       "model_id": "a574b3c6275848daa51f1264ef0c4b2f",
       "version_major": 2,
       "version_minor": 0
      },
      "text/plain": [
       "Generating validation split: 0 examples [00:00, ? examples/s]"
      ]
     },
     "metadata": {},
     "output_type": "display_data"
    },
    {
     "name": "stdout",
     "output_type": "stream",
     "text": [
      "Dataset json downloaded and prepared to /home/adityasv/.cache/huggingface/datasets/json/default-f6da04ce62e39d8c/0.0.0/0f7e3662623656454fcd2b650f34e886a7db4b9104504885bd462096cc7a9f51. Subsequent calls will reuse this data.\n"
     ]
    },
    {
     "data": {
      "application/vnd.jupyter.widget-view+json": {
       "model_id": "e5cc813ab28a42a6825feaff97ff2962",
       "version_major": 2,
       "version_minor": 0
      },
      "text/plain": [
       "  0%|          | 0/3 [00:00<?, ?it/s]"
      ]
     },
     "metadata": {},
     "output_type": "display_data"
    }
   ],
   "source": [
    "dataset = load_dataset('json', data_files={'train': \"/projects/tir6/general/adityasv/JustiSparse/composable-sft/examples/text-classification-debias/biosbias/data/train.json\", 'test': \"/projects/tir6/general/adityasv/JustiSparse/composable-sft/examples/text-classification-debias/biosbias/data/test.json\", 'validation': \"/projects/tir6/general/adityasv/JustiSparse/composable-sft/examples/text-classification-debias/biosbias/data/validation.json\"})"
   ]
  }
 ],
 "metadata": {
  "kernelspec": {
   "display_name": "Python 3.10.9 ('11830')",
   "language": "python",
   "name": "python3"
  },
  "language_info": {
   "codemirror_mode": {
    "name": "ipython",
    "version": 3
   },
   "file_extension": ".py",
   "mimetype": "text/x-python",
   "name": "python",
   "nbconvert_exporter": "python",
   "pygments_lexer": "ipython3",
   "version": "3.10.9"
  },
  "orig_nbformat": 4,
  "vscode": {
   "interpreter": {
    "hash": "aaf69955a5f8bbcad8bf2f6631b76795b8af3d5f182315144adde179545888ff"
   }
  }
 },
 "nbformat": 4,
 "nbformat_minor": 2
}
