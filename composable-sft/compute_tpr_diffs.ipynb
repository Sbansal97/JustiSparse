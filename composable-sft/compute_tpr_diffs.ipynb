{
 "cells": [
  {
   "cell_type": "code",
   "execution_count": 1,
   "metadata": {},
   "outputs": [],
   "source": [
    "import json\n",
    "from datasets import load_dataset\n",
    "from sklearn.metrics import precision_score\n",
    "from collections import defaultdict"
   ]
  },
  {
   "cell_type": "code",
   "execution_count": 2,
   "metadata": {},
   "outputs": [
    {
     "name": "stdout",
     "output_type": "stream",
     "text": [
      "/home/adityasv/.cache/huggingface/datasets/_home_adityasv_.cache_huggingface_datasets_json_default-57983d352f331592_0.0.0_0f7e3662623656454fcd2b650f34e886a7db4b9104504885bd462096cc7a9f51.lock\n"
     ]
    },
    {
     "name": "stderr",
     "output_type": "stream",
     "text": [
      "Found cached dataset json (/home/adityasv/.cache/huggingface/datasets/json/default-57983d352f331592/0.0.0/0f7e3662623656454fcd2b650f34e886a7db4b9104504885bd462096cc7a9f51)\n"
     ]
    },
    {
     "data": {
      "application/vnd.jupyter.widget-view+json": {
       "model_id": "755c90796d514bd3b330e2415c56a85f",
       "version_major": 2,
       "version_minor": 0
      },
      "text/plain": [
       "  0%|          | 0/1 [00:00<?, ?it/s]"
      ]
     },
     "metadata": {},
     "output_type": "display_data"
    },
    {
     "data": {
      "text/plain": [
       "Dataset({\n",
       "    features: ['g', 'label', 'text', 'start', 'sentence', 'hard_text_untokenized', 'text_without_gender'],\n",
       "    num_rows: 98344\n",
       "})"
      ]
     },
     "execution_count": 2,
     "metadata": {},
     "output_type": "execute_result"
    }
   ],
   "source": [
    "test_dataset = load_dataset('json', data_files={'test':'/projects/tir6/general/adityasv/JustiSparse/composable-sft/examples/text-classification-debias/biosbias/data/test.json'})['test']\n",
    "test_dataset\n"
   ]
  },
  {
   "cell_type": "code",
   "execution_count": 3,
   "metadata": {},
   "outputs": [],
   "source": [
    "def compute_tpr(preds, labels):\n",
    "    assert len(preds) == len(labels)\n",
    "    tp = 0\n",
    "    for p, l in zip(preds, labels):\n",
    "        tp += int(p == l)\n",
    "    return tp/len(preds)\n",
    "\n",
    "def compute_stratified_tpr(data, axis):\n",
    "    labels = set(data['label'])\n",
    "    axis_labels = set(data[axis])\n",
    "    \n",
    "    tprs = defaultdict(dict)\n",
    "    for label in labels:\n",
    "        for axis_label in axis_labels:\n",
    "            filtered_data = data.filter(lambda x: x[axis] == axis_label and x['label'] == label)\n",
    "            filtered_preds = filtered_data['prediction']\n",
    "            filtered_labels = filtered_data['label']\n",
    "            filtered_tpr = compute_tpr(filtered_preds, filtered_labels)\n",
    "            tprs[label][axis_label] = filtered_tpr\n",
    "\n",
    "    return tprs"
   ]
  },
  {
   "cell_type": "code",
   "execution_count": 4,
   "metadata": {},
   "outputs": [],
   "source": [
    "# No debias\n",
    "predictions = []\n",
    "with open('/projects/tir6/general/adityasv/JustiSparse/composable-sft/examples/text-classification-debias/biosbias/models/debias-none/predictions.txt') as fi:\n",
    "    fi.readline()\n",
    "    for i in fi:\n",
    "        index, prediction = i.strip().split('\\t')\n",
    "        predictions.append(prediction)\n",
    "no_debias = test_dataset.add_column('prediction', predictions)"
   ]
  },
  {
   "cell_type": "code",
   "execution_count": 5,
   "metadata": {},
   "outputs": [],
   "source": [
    "# Debias Before\n",
    "predictions = []\n",
    "with open('/projects/tir6/general/adityasv/JustiSparse/composable-sft/examples/text-classification-debias/biosbias/models/debias-before/predictions.txt') as fi:\n",
    "    fi.readline()\n",
    "    for i in fi:\n",
    "        index, prediction = i.strip().split('\\t')\n",
    "        predictions.append(prediction)\n",
    "debias_before = test_dataset.add_column('prediction', predictions)"
   ]
  },
  {
   "cell_type": "code",
   "execution_count": 6,
   "metadata": {},
   "outputs": [],
   "source": [
    "# Debias After\n",
    "predictions = []\n",
    "with open('/projects/tir6/general/adityasv/JustiSparse/composable-sft/examples/text-classification-debias/biosbias/models/debias-after/predictions.txt') as fi:\n",
    "    fi.readline()\n",
    "    for i in fi:\n",
    "        index, prediction = i.strip().split('\\t')\n",
    "        predictions.append(prediction)\n",
    "debias_after = test_dataset.add_column('prediction', predictions)\n"
   ]
  },
  {
   "cell_type": "markdown",
   "metadata": {},
   "source": [
    "# compute TPR"
   ]
  },
  {
   "cell_type": "code",
   "execution_count": 7,
   "metadata": {},
   "outputs": [
    {
     "data": {
      "application/vnd.jupyter.widget-view+json": {
       "model_id": "5ad6de2d549f491e98571bdb413519e7",
       "version_major": 2,
       "version_minor": 0
      },
      "text/plain": [
       "Filter:   0%|          | 0/98344 [00:00<?, ? examples/s]"
      ]
     },
     "metadata": {},
     "output_type": "display_data"
    },
    {
     "data": {
      "application/vnd.jupyter.widget-view+json": {
       "model_id": "f6066fd69dc84dde96df1336c26c4d5e",
       "version_major": 2,
       "version_minor": 0
      },
      "text/plain": [
       "Filter:   0%|          | 0/98344 [00:00<?, ? examples/s]"
      ]
     },
     "metadata": {},
     "output_type": "display_data"
    },
    {
     "data": {
      "application/vnd.jupyter.widget-view+json": {
       "model_id": "7e7c51a6aed8415d91ffaa9708eb34c8",
       "version_major": 2,
       "version_minor": 0
      },
      "text/plain": [
       "Filter:   0%|          | 0/98344 [00:00<?, ? examples/s]"
      ]
     },
     "metadata": {},
     "output_type": "display_data"
    },
    {
     "data": {
      "application/vnd.jupyter.widget-view+json": {
       "model_id": "ec80701dbb224feb919dd9c5d37e0533",
       "version_major": 2,
       "version_minor": 0
      },
      "text/plain": [
       "Filter:   0%|          | 0/98344 [00:00<?, ? examples/s]"
      ]
     },
     "metadata": {},
     "output_type": "display_data"
    },
    {
     "data": {
      "application/vnd.jupyter.widget-view+json": {
       "model_id": "0b69193f341243b6b3b94a236eb9e61c",
       "version_major": 2,
       "version_minor": 0
      },
      "text/plain": [
       "Filter:   0%|          | 0/98344 [00:00<?, ? examples/s]"
      ]
     },
     "metadata": {},
     "output_type": "display_data"
    },
    {
     "data": {
      "application/vnd.jupyter.widget-view+json": {
       "model_id": "a6cbfeed4b5d4554ba7fb51020fd7b10",
       "version_major": 2,
       "version_minor": 0
      },
      "text/plain": [
       "Filter:   0%|          | 0/98344 [00:00<?, ? examples/s]"
      ]
     },
     "metadata": {},
     "output_type": "display_data"
    },
    {
     "data": {
      "application/vnd.jupyter.widget-view+json": {
       "model_id": "350fa1ab0eed496cb406b45bf44bdb0a",
       "version_major": 2,
       "version_minor": 0
      },
      "text/plain": [
       "Filter:   0%|          | 0/98344 [00:00<?, ? examples/s]"
      ]
     },
     "metadata": {},
     "output_type": "display_data"
    },
    {
     "data": {
      "application/vnd.jupyter.widget-view+json": {
       "model_id": "323f239ee8e44eca9098bdd8a3a97aaa",
       "version_major": 2,
       "version_minor": 0
      },
      "text/plain": [
       "Filter:   0%|          | 0/98344 [00:00<?, ? examples/s]"
      ]
     },
     "metadata": {},
     "output_type": "display_data"
    },
    {
     "data": {
      "application/vnd.jupyter.widget-view+json": {
       "model_id": "ff1b5c88bff947f68244b805ae0039ca",
       "version_major": 2,
       "version_minor": 0
      },
      "text/plain": [
       "Filter:   0%|          | 0/98344 [00:00<?, ? examples/s]"
      ]
     },
     "metadata": {},
     "output_type": "display_data"
    },
    {
     "data": {
      "application/vnd.jupyter.widget-view+json": {
       "model_id": "054adcd2fd98479b88896f1919a130b7",
       "version_major": 2,
       "version_minor": 0
      },
      "text/plain": [
       "Filter:   0%|          | 0/98344 [00:00<?, ? examples/s]"
      ]
     },
     "metadata": {},
     "output_type": "display_data"
    },
    {
     "data": {
      "application/vnd.jupyter.widget-view+json": {
       "model_id": "730b3faef0f94188bb470e9d6f577d04",
       "version_major": 2,
       "version_minor": 0
      },
      "text/plain": [
       "Filter:   0%|          | 0/98344 [00:00<?, ? examples/s]"
      ]
     },
     "metadata": {},
     "output_type": "display_data"
    },
    {
     "data": {
      "application/vnd.jupyter.widget-view+json": {
       "model_id": "64fb0911e5c04fb1b820e240f2a80143",
       "version_major": 2,
       "version_minor": 0
      },
      "text/plain": [
       "Filter:   0%|          | 0/98344 [00:00<?, ? examples/s]"
      ]
     },
     "metadata": {},
     "output_type": "display_data"
    },
    {
     "data": {
      "application/vnd.jupyter.widget-view+json": {
       "model_id": "7988160939aa43948e277e5dc151a72e",
       "version_major": 2,
       "version_minor": 0
      },
      "text/plain": [
       "Filter:   0%|          | 0/98344 [00:00<?, ? examples/s]"
      ]
     },
     "metadata": {},
     "output_type": "display_data"
    },
    {
     "data": {
      "application/vnd.jupyter.widget-view+json": {
       "model_id": "6f6cc9c527a149b4acaabb1fe358d825",
       "version_major": 2,
       "version_minor": 0
      },
      "text/plain": [
       "Filter:   0%|          | 0/98344 [00:00<?, ? examples/s]"
      ]
     },
     "metadata": {},
     "output_type": "display_data"
    },
    {
     "data": {
      "application/vnd.jupyter.widget-view+json": {
       "model_id": "dfa706232ae740e38735a59f672d37ce",
       "version_major": 2,
       "version_minor": 0
      },
      "text/plain": [
       "Filter:   0%|          | 0/98344 [00:00<?, ? examples/s]"
      ]
     },
     "metadata": {},
     "output_type": "display_data"
    },
    {
     "data": {
      "application/vnd.jupyter.widget-view+json": {
       "model_id": "341a620865eb40af86796753c2a0d80d",
       "version_major": 2,
       "version_minor": 0
      },
      "text/plain": [
       "Filter:   0%|          | 0/98344 [00:00<?, ? examples/s]"
      ]
     },
     "metadata": {},
     "output_type": "display_data"
    },
    {
     "data": {
      "application/vnd.jupyter.widget-view+json": {
       "model_id": "b55cc14d2c084950b819639982471645",
       "version_major": 2,
       "version_minor": 0
      },
      "text/plain": [
       "Filter:   0%|          | 0/98344 [00:00<?, ? examples/s]"
      ]
     },
     "metadata": {},
     "output_type": "display_data"
    },
    {
     "data": {
      "application/vnd.jupyter.widget-view+json": {
       "model_id": "2e88627c69cd4b1cba6dd399a9433279",
       "version_major": 2,
       "version_minor": 0
      },
      "text/plain": [
       "Filter:   0%|          | 0/98344 [00:00<?, ? examples/s]"
      ]
     },
     "metadata": {},
     "output_type": "display_data"
    },
    {
     "data": {
      "application/vnd.jupyter.widget-view+json": {
       "model_id": "d904640f55594de0bf34c5f05b93b61d",
       "version_major": 2,
       "version_minor": 0
      },
      "text/plain": [
       "Filter:   0%|          | 0/98344 [00:00<?, ? examples/s]"
      ]
     },
     "metadata": {},
     "output_type": "display_data"
    },
    {
     "data": {
      "application/vnd.jupyter.widget-view+json": {
       "model_id": "708ba4b458ed45fdb5a99447c401062c",
       "version_major": 2,
       "version_minor": 0
      },
      "text/plain": [
       "Filter:   0%|          | 0/98344 [00:00<?, ? examples/s]"
      ]
     },
     "metadata": {},
     "output_type": "display_data"
    },
    {
     "data": {
      "application/vnd.jupyter.widget-view+json": {
       "model_id": "b1af5729fb6d44cbb05d98e28d1797f8",
       "version_major": 2,
       "version_minor": 0
      },
      "text/plain": [
       "Filter:   0%|          | 0/98344 [00:00<?, ? examples/s]"
      ]
     },
     "metadata": {},
     "output_type": "display_data"
    },
    {
     "data": {
      "application/vnd.jupyter.widget-view+json": {
       "model_id": "a973259cc4a54aadb895caff3b970e8a",
       "version_major": 2,
       "version_minor": 0
      },
      "text/plain": [
       "Filter:   0%|          | 0/98344 [00:00<?, ? examples/s]"
      ]
     },
     "metadata": {},
     "output_type": "display_data"
    },
    {
     "data": {
      "application/vnd.jupyter.widget-view+json": {
       "model_id": "aeb22c5d58dd4f9ea2fa6c04945e43f7",
       "version_major": 2,
       "version_minor": 0
      },
      "text/plain": [
       "Filter:   0%|          | 0/98344 [00:00<?, ? examples/s]"
      ]
     },
     "metadata": {},
     "output_type": "display_data"
    },
    {
     "data": {
      "application/vnd.jupyter.widget-view+json": {
       "model_id": "5227c03a575641a39047d1e907914e09",
       "version_major": 2,
       "version_minor": 0
      },
      "text/plain": [
       "Filter:   0%|          | 0/98344 [00:00<?, ? examples/s]"
      ]
     },
     "metadata": {},
     "output_type": "display_data"
    },
    {
     "data": {
      "application/vnd.jupyter.widget-view+json": {
       "model_id": "3c4c87ae1ea348c1b61382f6c804b42f",
       "version_major": 2,
       "version_minor": 0
      },
      "text/plain": [
       "Filter:   0%|          | 0/98344 [00:00<?, ? examples/s]"
      ]
     },
     "metadata": {},
     "output_type": "display_data"
    },
    {
     "data": {
      "application/vnd.jupyter.widget-view+json": {
       "model_id": "066ad0ebd473464fa3a53af263ca4c73",
       "version_major": 2,
       "version_minor": 0
      },
      "text/plain": [
       "Filter:   0%|          | 0/98344 [00:00<?, ? examples/s]"
      ]
     },
     "metadata": {},
     "output_type": "display_data"
    },
    {
     "data": {
      "application/vnd.jupyter.widget-view+json": {
       "model_id": "1d029a21e8e14f98a2cbf5a658d8908e",
       "version_major": 2,
       "version_minor": 0
      },
      "text/plain": [
       "Filter:   0%|          | 0/98344 [00:00<?, ? examples/s]"
      ]
     },
     "metadata": {},
     "output_type": "display_data"
    },
    {
     "data": {
      "application/vnd.jupyter.widget-view+json": {
       "model_id": "bde2018b4f2e47e0b92db9aafcac9d77",
       "version_major": 2,
       "version_minor": 0
      },
      "text/plain": [
       "Filter:   0%|          | 0/98344 [00:00<?, ? examples/s]"
      ]
     },
     "metadata": {},
     "output_type": "display_data"
    },
    {
     "data": {
      "application/vnd.jupyter.widget-view+json": {
       "model_id": "b02a890ea0c347a2bafb27cd48943d22",
       "version_major": 2,
       "version_minor": 0
      },
      "text/plain": [
       "Filter:   0%|          | 0/98344 [00:00<?, ? examples/s]"
      ]
     },
     "metadata": {},
     "output_type": "display_data"
    },
    {
     "data": {
      "application/vnd.jupyter.widget-view+json": {
       "model_id": "4f39efb794994289bc63283d1fa432d2",
       "version_major": 2,
       "version_minor": 0
      },
      "text/plain": [
       "Filter:   0%|          | 0/98344 [00:00<?, ? examples/s]"
      ]
     },
     "metadata": {},
     "output_type": "display_data"
    },
    {
     "data": {
      "application/vnd.jupyter.widget-view+json": {
       "model_id": "6f443857b4f444c299064c2b23af4a8e",
       "version_major": 2,
       "version_minor": 0
      },
      "text/plain": [
       "Filter:   0%|          | 0/98344 [00:00<?, ? examples/s]"
      ]
     },
     "metadata": {},
     "output_type": "display_data"
    },
    {
     "data": {
      "application/vnd.jupyter.widget-view+json": {
       "model_id": "161f7eea22f4450bab8220e2d7bffedc",
       "version_major": 2,
       "version_minor": 0
      },
      "text/plain": [
       "Filter:   0%|          | 0/98344 [00:00<?, ? examples/s]"
      ]
     },
     "metadata": {},
     "output_type": "display_data"
    },
    {
     "data": {
      "application/vnd.jupyter.widget-view+json": {
       "model_id": "035a221c4aa049cab9aecda65bf4ab67",
       "version_major": 2,
       "version_minor": 0
      },
      "text/plain": [
       "Filter:   0%|          | 0/98344 [00:00<?, ? examples/s]"
      ]
     },
     "metadata": {},
     "output_type": "display_data"
    },
    {
     "data": {
      "application/vnd.jupyter.widget-view+json": {
       "model_id": "bd0a95c5210344d99236f3f1fd678968",
       "version_major": 2,
       "version_minor": 0
      },
      "text/plain": [
       "Filter:   0%|          | 0/98344 [00:00<?, ? examples/s]"
      ]
     },
     "metadata": {},
     "output_type": "display_data"
    },
    {
     "data": {
      "application/vnd.jupyter.widget-view+json": {
       "model_id": "8c34895fa4764686bfaa07bcf4b5d1a8",
       "version_major": 2,
       "version_minor": 0
      },
      "text/plain": [
       "Filter:   0%|          | 0/98344 [00:00<?, ? examples/s]"
      ]
     },
     "metadata": {},
     "output_type": "display_data"
    },
    {
     "data": {
      "application/vnd.jupyter.widget-view+json": {
       "model_id": "299c783e1a5b461fba48d32b5f5249ad",
       "version_major": 2,
       "version_minor": 0
      },
      "text/plain": [
       "Filter:   0%|          | 0/98344 [00:00<?, ? examples/s]"
      ]
     },
     "metadata": {},
     "output_type": "display_data"
    },
    {
     "data": {
      "application/vnd.jupyter.widget-view+json": {
       "model_id": "1fed7efbc07f4dfa83a3918e0ebd7107",
       "version_major": 2,
       "version_minor": 0
      },
      "text/plain": [
       "Filter:   0%|          | 0/98344 [00:00<?, ? examples/s]"
      ]
     },
     "metadata": {},
     "output_type": "display_data"
    },
    {
     "data": {
      "application/vnd.jupyter.widget-view+json": {
       "model_id": "39321d3c4cf94870b95eaa15278faef6",
       "version_major": 2,
       "version_minor": 0
      },
      "text/plain": [
       "Filter:   0%|          | 0/98344 [00:00<?, ? examples/s]"
      ]
     },
     "metadata": {},
     "output_type": "display_data"
    },
    {
     "data": {
      "application/vnd.jupyter.widget-view+json": {
       "model_id": "9e58963e43754067be3ec8973a5f7a8c",
       "version_major": 2,
       "version_minor": 0
      },
      "text/plain": [
       "Filter:   0%|          | 0/98344 [00:00<?, ? examples/s]"
      ]
     },
     "metadata": {},
     "output_type": "display_data"
    },
    {
     "data": {
      "application/vnd.jupyter.widget-view+json": {
       "model_id": "7bb8def5e07646a2b7325d0afa90979b",
       "version_major": 2,
       "version_minor": 0
      },
      "text/plain": [
       "Filter:   0%|          | 0/98344 [00:00<?, ? examples/s]"
      ]
     },
     "metadata": {},
     "output_type": "display_data"
    },
    {
     "data": {
      "application/vnd.jupyter.widget-view+json": {
       "model_id": "f2d8d7abe250403ab2847bbfedd8651f",
       "version_major": 2,
       "version_minor": 0
      },
      "text/plain": [
       "Filter:   0%|          | 0/98344 [00:00<?, ? examples/s]"
      ]
     },
     "metadata": {},
     "output_type": "display_data"
    },
    {
     "data": {
      "application/vnd.jupyter.widget-view+json": {
       "model_id": "b1b9551c47ee40c8990eae91b4b9ef8a",
       "version_major": 2,
       "version_minor": 0
      },
      "text/plain": [
       "Filter:   0%|          | 0/98344 [00:00<?, ? examples/s]"
      ]
     },
     "metadata": {},
     "output_type": "display_data"
    },
    {
     "data": {
      "application/vnd.jupyter.widget-view+json": {
       "model_id": "d16e26502b0d41c382d2e9df4edf5ef1",
       "version_major": 2,
       "version_minor": 0
      },
      "text/plain": [
       "Filter:   0%|          | 0/98344 [00:00<?, ? examples/s]"
      ]
     },
     "metadata": {},
     "output_type": "display_data"
    },
    {
     "data": {
      "application/vnd.jupyter.widget-view+json": {
       "model_id": "c96651a28b5f424eb379d89729c2bf93",
       "version_major": 2,
       "version_minor": 0
      },
      "text/plain": [
       "Filter:   0%|          | 0/98344 [00:00<?, ? examples/s]"
      ]
     },
     "metadata": {},
     "output_type": "display_data"
    },
    {
     "data": {
      "application/vnd.jupyter.widget-view+json": {
       "model_id": "fb76b72602b84c5b8af142a616d0bc42",
       "version_major": 2,
       "version_minor": 0
      },
      "text/plain": [
       "Filter:   0%|          | 0/98344 [00:00<?, ? examples/s]"
      ]
     },
     "metadata": {},
     "output_type": "display_data"
    },
    {
     "data": {
      "application/vnd.jupyter.widget-view+json": {
       "model_id": "d8f3acf4fe924254aa5db818c2573ee7",
       "version_major": 2,
       "version_minor": 0
      },
      "text/plain": [
       "Filter:   0%|          | 0/98344 [00:00<?, ? examples/s]"
      ]
     },
     "metadata": {},
     "output_type": "display_data"
    },
    {
     "data": {
      "application/vnd.jupyter.widget-view+json": {
       "model_id": "8bb25b513d7a4847beac2d40e40906ec",
       "version_major": 2,
       "version_minor": 0
      },
      "text/plain": [
       "Filter:   0%|          | 0/98344 [00:00<?, ? examples/s]"
      ]
     },
     "metadata": {},
     "output_type": "display_data"
    },
    {
     "data": {
      "application/vnd.jupyter.widget-view+json": {
       "model_id": "a6e5a9c15a184f2992dc7636e24e3766",
       "version_major": 2,
       "version_minor": 0
      },
      "text/plain": [
       "Filter:   0%|          | 0/98344 [00:00<?, ? examples/s]"
      ]
     },
     "metadata": {},
     "output_type": "display_data"
    },
    {
     "data": {
      "application/vnd.jupyter.widget-view+json": {
       "model_id": "e9f60c588cf14e0ab355da3b8650ab74",
       "version_major": 2,
       "version_minor": 0
      },
      "text/plain": [
       "Filter:   0%|          | 0/98344 [00:00<?, ? examples/s]"
      ]
     },
     "metadata": {},
     "output_type": "display_data"
    },
    {
     "data": {
      "application/vnd.jupyter.widget-view+json": {
       "model_id": "687f62148f4b4f15abccd28a8620779b",
       "version_major": 2,
       "version_minor": 0
      },
      "text/plain": [
       "Filter:   0%|          | 0/98344 [00:00<?, ? examples/s]"
      ]
     },
     "metadata": {},
     "output_type": "display_data"
    },
    {
     "data": {
      "application/vnd.jupyter.widget-view+json": {
       "model_id": "2e43b683615b4c6a9ce73f1ba496de6b",
       "version_major": 2,
       "version_minor": 0
      },
      "text/plain": [
       "Filter:   0%|          | 0/98344 [00:00<?, ? examples/s]"
      ]
     },
     "metadata": {},
     "output_type": "display_data"
    },
    {
     "data": {
      "application/vnd.jupyter.widget-view+json": {
       "model_id": "b67567bbde7541fc93e73925f0a01ee4",
       "version_major": 2,
       "version_minor": 0
      },
      "text/plain": [
       "Filter:   0%|          | 0/98344 [00:00<?, ? examples/s]"
      ]
     },
     "metadata": {},
     "output_type": "display_data"
    },
    {
     "data": {
      "application/vnd.jupyter.widget-view+json": {
       "model_id": "115616b317a8407896ab2b6d39a615da",
       "version_major": 2,
       "version_minor": 0
      },
      "text/plain": [
       "Filter:   0%|          | 0/98344 [00:00<?, ? examples/s]"
      ]
     },
     "metadata": {},
     "output_type": "display_data"
    },
    {
     "data": {
      "application/vnd.jupyter.widget-view+json": {
       "model_id": "d833b55e820e426f8cbeef602ca13a6e",
       "version_major": 2,
       "version_minor": 0
      },
      "text/plain": [
       "Filter:   0%|          | 0/98344 [00:00<?, ? examples/s]"
      ]
     },
     "metadata": {},
     "output_type": "display_data"
    },
    {
     "data": {
      "application/vnd.jupyter.widget-view+json": {
       "model_id": "2ac4fcbe7ef64e7a9d77f5fe469965d1",
       "version_major": 2,
       "version_minor": 0
      },
      "text/plain": [
       "Filter:   0%|          | 0/98344 [00:00<?, ? examples/s]"
      ]
     },
     "metadata": {},
     "output_type": "display_data"
    },
    {
     "data": {
      "application/vnd.jupyter.widget-view+json": {
       "model_id": "5af50c97f5a14dabac651b2a976babb2",
       "version_major": 2,
       "version_minor": 0
      },
      "text/plain": [
       "Filter:   0%|          | 0/98344 [00:00<?, ? examples/s]"
      ]
     },
     "metadata": {},
     "output_type": "display_data"
    },
    {
     "name": "stderr",
     "output_type": "stream",
     "text": [
      "Loading cached processed dataset at /home/adityasv/.cache/huggingface/datasets/json/default-57983d352f331592/0.0.0/0f7e3662623656454fcd2b650f34e886a7db4b9104504885bd462096cc7a9f51/cache-c834e76db34278f8.arrow\n",
      "Loading cached processed dataset at /home/adityasv/.cache/huggingface/datasets/json/default-57983d352f331592/0.0.0/0f7e3662623656454fcd2b650f34e886a7db4b9104504885bd462096cc7a9f51/cache-b2ce60c93060a357.arrow\n",
      "Loading cached processed dataset at /home/adityasv/.cache/huggingface/datasets/json/default-57983d352f331592/0.0.0/0f7e3662623656454fcd2b650f34e886a7db4b9104504885bd462096cc7a9f51/cache-718fa66150ffe911.arrow\n",
      "Loading cached processed dataset at /home/adityasv/.cache/huggingface/datasets/json/default-57983d352f331592/0.0.0/0f7e3662623656454fcd2b650f34e886a7db4b9104504885bd462096cc7a9f51/cache-31f226bfd3b1ed75.arrow\n",
      "Loading cached processed dataset at /home/adityasv/.cache/huggingface/datasets/json/default-57983d352f331592/0.0.0/0f7e3662623656454fcd2b650f34e886a7db4b9104504885bd462096cc7a9f51/cache-21604a0b14c6fc5d.arrow\n",
      "Loading cached processed dataset at /home/adityasv/.cache/huggingface/datasets/json/default-57983d352f331592/0.0.0/0f7e3662623656454fcd2b650f34e886a7db4b9104504885bd462096cc7a9f51/cache-656e3c826bf82830.arrow\n",
      "Loading cached processed dataset at /home/adityasv/.cache/huggingface/datasets/json/default-57983d352f331592/0.0.0/0f7e3662623656454fcd2b650f34e886a7db4b9104504885bd462096cc7a9f51/cache-5cefb2b12a919811.arrow\n",
      "Loading cached processed dataset at /home/adityasv/.cache/huggingface/datasets/json/default-57983d352f331592/0.0.0/0f7e3662623656454fcd2b650f34e886a7db4b9104504885bd462096cc7a9f51/cache-495e6c9af06f3f5e.arrow\n",
      "Loading cached processed dataset at /home/adityasv/.cache/huggingface/datasets/json/default-57983d352f331592/0.0.0/0f7e3662623656454fcd2b650f34e886a7db4b9104504885bd462096cc7a9f51/cache-7b7be36b45bf6af6.arrow\n",
      "Loading cached processed dataset at /home/adityasv/.cache/huggingface/datasets/json/default-57983d352f331592/0.0.0/0f7e3662623656454fcd2b650f34e886a7db4b9104504885bd462096cc7a9f51/cache-a8fc22cefbb7b943.arrow\n",
      "Loading cached processed dataset at /home/adityasv/.cache/huggingface/datasets/json/default-57983d352f331592/0.0.0/0f7e3662623656454fcd2b650f34e886a7db4b9104504885bd462096cc7a9f51/cache-dd86de81a72e4280.arrow\n",
      "Loading cached processed dataset at /home/adityasv/.cache/huggingface/datasets/json/default-57983d352f331592/0.0.0/0f7e3662623656454fcd2b650f34e886a7db4b9104504885bd462096cc7a9f51/cache-f1822a57ad58b2d4.arrow\n",
      "Loading cached processed dataset at /home/adityasv/.cache/huggingface/datasets/json/default-57983d352f331592/0.0.0/0f7e3662623656454fcd2b650f34e886a7db4b9104504885bd462096cc7a9f51/cache-169895097d34f473.arrow\n",
      "Loading cached processed dataset at /home/adityasv/.cache/huggingface/datasets/json/default-57983d352f331592/0.0.0/0f7e3662623656454fcd2b650f34e886a7db4b9104504885bd462096cc7a9f51/cache-e96246a8cb78d15d.arrow\n",
      "Loading cached processed dataset at /home/adityasv/.cache/huggingface/datasets/json/default-57983d352f331592/0.0.0/0f7e3662623656454fcd2b650f34e886a7db4b9104504885bd462096cc7a9f51/cache-0e760b87d4b2e2fe.arrow\n",
      "Loading cached processed dataset at /home/adityasv/.cache/huggingface/datasets/json/default-57983d352f331592/0.0.0/0f7e3662623656454fcd2b650f34e886a7db4b9104504885bd462096cc7a9f51/cache-4812b79b46332303.arrow\n",
      "Loading cached processed dataset at /home/adityasv/.cache/huggingface/datasets/json/default-57983d352f331592/0.0.0/0f7e3662623656454fcd2b650f34e886a7db4b9104504885bd462096cc7a9f51/cache-a695f5e3006a5d04.arrow\n",
      "Loading cached processed dataset at /home/adityasv/.cache/huggingface/datasets/json/default-57983d352f331592/0.0.0/0f7e3662623656454fcd2b650f34e886a7db4b9104504885bd462096cc7a9f51/cache-e4fea68a6223a3f1.arrow\n",
      "Loading cached processed dataset at /home/adityasv/.cache/huggingface/datasets/json/default-57983d352f331592/0.0.0/0f7e3662623656454fcd2b650f34e886a7db4b9104504885bd462096cc7a9f51/cache-0189d0f3cd56c6fc.arrow\n",
      "Loading cached processed dataset at /home/adityasv/.cache/huggingface/datasets/json/default-57983d352f331592/0.0.0/0f7e3662623656454fcd2b650f34e886a7db4b9104504885bd462096cc7a9f51/cache-ee090654b4566034.arrow\n",
      "Loading cached processed dataset at /home/adityasv/.cache/huggingface/datasets/json/default-57983d352f331592/0.0.0/0f7e3662623656454fcd2b650f34e886a7db4b9104504885bd462096cc7a9f51/cache-b674275da9a59dd4.arrow\n",
      "Loading cached processed dataset at /home/adityasv/.cache/huggingface/datasets/json/default-57983d352f331592/0.0.0/0f7e3662623656454fcd2b650f34e886a7db4b9104504885bd462096cc7a9f51/cache-d1c374f27b899ccd.arrow\n",
      "Loading cached processed dataset at /home/adityasv/.cache/huggingface/datasets/json/default-57983d352f331592/0.0.0/0f7e3662623656454fcd2b650f34e886a7db4b9104504885bd462096cc7a9f51/cache-2ca43445b3db4fea.arrow\n",
      "Loading cached processed dataset at /home/adityasv/.cache/huggingface/datasets/json/default-57983d352f331592/0.0.0/0f7e3662623656454fcd2b650f34e886a7db4b9104504885bd462096cc7a9f51/cache-b4da5dedd74a67e0.arrow\n",
      "Loading cached processed dataset at /home/adityasv/.cache/huggingface/datasets/json/default-57983d352f331592/0.0.0/0f7e3662623656454fcd2b650f34e886a7db4b9104504885bd462096cc7a9f51/cache-c90de9cdb8482c42.arrow\n",
      "Loading cached processed dataset at /home/adityasv/.cache/huggingface/datasets/json/default-57983d352f331592/0.0.0/0f7e3662623656454fcd2b650f34e886a7db4b9104504885bd462096cc7a9f51/cache-5e9ef37314c51bf0.arrow\n",
      "Loading cached processed dataset at /home/adityasv/.cache/huggingface/datasets/json/default-57983d352f331592/0.0.0/0f7e3662623656454fcd2b650f34e886a7db4b9104504885bd462096cc7a9f51/cache-d71de239d0a248ac.arrow\n",
      "Loading cached processed dataset at /home/adityasv/.cache/huggingface/datasets/json/default-57983d352f331592/0.0.0/0f7e3662623656454fcd2b650f34e886a7db4b9104504885bd462096cc7a9f51/cache-c0efa1c61619ed76.arrow\n",
      "Loading cached processed dataset at /home/adityasv/.cache/huggingface/datasets/json/default-57983d352f331592/0.0.0/0f7e3662623656454fcd2b650f34e886a7db4b9104504885bd462096cc7a9f51/cache-3db4e82842626a79.arrow\n",
      "Loading cached processed dataset at /home/adityasv/.cache/huggingface/datasets/json/default-57983d352f331592/0.0.0/0f7e3662623656454fcd2b650f34e886a7db4b9104504885bd462096cc7a9f51/cache-37157cab04f36431.arrow\n",
      "Loading cached processed dataset at /home/adityasv/.cache/huggingface/datasets/json/default-57983d352f331592/0.0.0/0f7e3662623656454fcd2b650f34e886a7db4b9104504885bd462096cc7a9f51/cache-9b610bd351ce44b0.arrow\n",
      "Loading cached processed dataset at /home/adityasv/.cache/huggingface/datasets/json/default-57983d352f331592/0.0.0/0f7e3662623656454fcd2b650f34e886a7db4b9104504885bd462096cc7a9f51/cache-7bba6615f1221de5.arrow\n",
      "Loading cached processed dataset at /home/adityasv/.cache/huggingface/datasets/json/default-57983d352f331592/0.0.0/0f7e3662623656454fcd2b650f34e886a7db4b9104504885bd462096cc7a9f51/cache-5848f8a813ae123e.arrow\n",
      "Loading cached processed dataset at /home/adityasv/.cache/huggingface/datasets/json/default-57983d352f331592/0.0.0/0f7e3662623656454fcd2b650f34e886a7db4b9104504885bd462096cc7a9f51/cache-73bc286fef0d99ca.arrow\n",
      "Loading cached processed dataset at /home/adityasv/.cache/huggingface/datasets/json/default-57983d352f331592/0.0.0/0f7e3662623656454fcd2b650f34e886a7db4b9104504885bd462096cc7a9f51/cache-86db054737f92350.arrow\n",
      "Loading cached processed dataset at /home/adityasv/.cache/huggingface/datasets/json/default-57983d352f331592/0.0.0/0f7e3662623656454fcd2b650f34e886a7db4b9104504885bd462096cc7a9f51/cache-9a2881984a97b965.arrow\n",
      "Loading cached processed dataset at /home/adityasv/.cache/huggingface/datasets/json/default-57983d352f331592/0.0.0/0f7e3662623656454fcd2b650f34e886a7db4b9104504885bd462096cc7a9f51/cache-4fe2a7c07feb4c77.arrow\n",
      "Loading cached processed dataset at /home/adityasv/.cache/huggingface/datasets/json/default-57983d352f331592/0.0.0/0f7e3662623656454fcd2b650f34e886a7db4b9104504885bd462096cc7a9f51/cache-8ac895617cd7c252.arrow\n",
      "Loading cached processed dataset at /home/adityasv/.cache/huggingface/datasets/json/default-57983d352f331592/0.0.0/0f7e3662623656454fcd2b650f34e886a7db4b9104504885bd462096cc7a9f51/cache-ecd08f310c553ff3.arrow\n",
      "Loading cached processed dataset at /home/adityasv/.cache/huggingface/datasets/json/default-57983d352f331592/0.0.0/0f7e3662623656454fcd2b650f34e886a7db4b9104504885bd462096cc7a9f51/cache-d52f4f4adb64de08.arrow\n",
      "Loading cached processed dataset at /home/adityasv/.cache/huggingface/datasets/json/default-57983d352f331592/0.0.0/0f7e3662623656454fcd2b650f34e886a7db4b9104504885bd462096cc7a9f51/cache-605a7939b0b959db.arrow\n",
      "Loading cached processed dataset at /home/adityasv/.cache/huggingface/datasets/json/default-57983d352f331592/0.0.0/0f7e3662623656454fcd2b650f34e886a7db4b9104504885bd462096cc7a9f51/cache-9fa8020a35e2ed21.arrow\n",
      "Loading cached processed dataset at /home/adityasv/.cache/huggingface/datasets/json/default-57983d352f331592/0.0.0/0f7e3662623656454fcd2b650f34e886a7db4b9104504885bd462096cc7a9f51/cache-bd6cd366d19405e2.arrow\n",
      "Loading cached processed dataset at /home/adityasv/.cache/huggingface/datasets/json/default-57983d352f331592/0.0.0/0f7e3662623656454fcd2b650f34e886a7db4b9104504885bd462096cc7a9f51/cache-29187d23ffa572d4.arrow\n",
      "Loading cached processed dataset at /home/adityasv/.cache/huggingface/datasets/json/default-57983d352f331592/0.0.0/0f7e3662623656454fcd2b650f34e886a7db4b9104504885bd462096cc7a9f51/cache-80d648ec6a5b0a99.arrow\n",
      "Loading cached processed dataset at /home/adityasv/.cache/huggingface/datasets/json/default-57983d352f331592/0.0.0/0f7e3662623656454fcd2b650f34e886a7db4b9104504885bd462096cc7a9f51/cache-f1a08d359d07fd2d.arrow\n",
      "Loading cached processed dataset at /home/adityasv/.cache/huggingface/datasets/json/default-57983d352f331592/0.0.0/0f7e3662623656454fcd2b650f34e886a7db4b9104504885bd462096cc7a9f51/cache-650509b9164c99ec.arrow\n",
      "Loading cached processed dataset at /home/adityasv/.cache/huggingface/datasets/json/default-57983d352f331592/0.0.0/0f7e3662623656454fcd2b650f34e886a7db4b9104504885bd462096cc7a9f51/cache-7e74a5917a751ddd.arrow\n",
      "Loading cached processed dataset at /home/adityasv/.cache/huggingface/datasets/json/default-57983d352f331592/0.0.0/0f7e3662623656454fcd2b650f34e886a7db4b9104504885bd462096cc7a9f51/cache-765bfb792b8877f2.arrow\n",
      "Loading cached processed dataset at /home/adityasv/.cache/huggingface/datasets/json/default-57983d352f331592/0.0.0/0f7e3662623656454fcd2b650f34e886a7db4b9104504885bd462096cc7a9f51/cache-b156b040ae706c81.arrow\n",
      "Loading cached processed dataset at /home/adityasv/.cache/huggingface/datasets/json/default-57983d352f331592/0.0.0/0f7e3662623656454fcd2b650f34e886a7db4b9104504885bd462096cc7a9f51/cache-87f0b315a6e67693.arrow\n",
      "Loading cached processed dataset at /home/adityasv/.cache/huggingface/datasets/json/default-57983d352f331592/0.0.0/0f7e3662623656454fcd2b650f34e886a7db4b9104504885bd462096cc7a9f51/cache-60bb2e96b9a917ad.arrow\n",
      "Loading cached processed dataset at /home/adityasv/.cache/huggingface/datasets/json/default-57983d352f331592/0.0.0/0f7e3662623656454fcd2b650f34e886a7db4b9104504885bd462096cc7a9f51/cache-08da8e93862331df.arrow\n",
      "Loading cached processed dataset at /home/adityasv/.cache/huggingface/datasets/json/default-57983d352f331592/0.0.0/0f7e3662623656454fcd2b650f34e886a7db4b9104504885bd462096cc7a9f51/cache-440f35b2d046abfe.arrow\n",
      "Loading cached processed dataset at /home/adityasv/.cache/huggingface/datasets/json/default-57983d352f331592/0.0.0/0f7e3662623656454fcd2b650f34e886a7db4b9104504885bd462096cc7a9f51/cache-9f140dc238e23130.arrow\n",
      "Loading cached processed dataset at /home/adityasv/.cache/huggingface/datasets/json/default-57983d352f331592/0.0.0/0f7e3662623656454fcd2b650f34e886a7db4b9104504885bd462096cc7a9f51/cache-52ca4ff5ec214dde.arrow\n",
      "Loading cached processed dataset at /home/adityasv/.cache/huggingface/datasets/json/default-57983d352f331592/0.0.0/0f7e3662623656454fcd2b650f34e886a7db4b9104504885bd462096cc7a9f51/cache-eaecbee60f341c1b.arrow\n",
      "Loading cached processed dataset at /home/adityasv/.cache/huggingface/datasets/json/default-57983d352f331592/0.0.0/0f7e3662623656454fcd2b650f34e886a7db4b9104504885bd462096cc7a9f51/cache-f812699bba718d55.arrow\n",
      "Loading cached processed dataset at /home/adityasv/.cache/huggingface/datasets/json/default-57983d352f331592/0.0.0/0f7e3662623656454fcd2b650f34e886a7db4b9104504885bd462096cc7a9f51/cache-135a1db858147d15.arrow\n",
      "Loading cached processed dataset at /home/adityasv/.cache/huggingface/datasets/json/default-57983d352f331592/0.0.0/0f7e3662623656454fcd2b650f34e886a7db4b9104504885bd462096cc7a9f51/cache-eecef643b1ae075a.arrow\n",
      "Loading cached processed dataset at /home/adityasv/.cache/huggingface/datasets/json/default-57983d352f331592/0.0.0/0f7e3662623656454fcd2b650f34e886a7db4b9104504885bd462096cc7a9f51/cache-f6b3f77c0a79a13d.arrow\n",
      "Loading cached processed dataset at /home/adityasv/.cache/huggingface/datasets/json/default-57983d352f331592/0.0.0/0f7e3662623656454fcd2b650f34e886a7db4b9104504885bd462096cc7a9f51/cache-bc18469a9062e263.arrow\n",
      "Loading cached processed dataset at /home/adityasv/.cache/huggingface/datasets/json/default-57983d352f331592/0.0.0/0f7e3662623656454fcd2b650f34e886a7db4b9104504885bd462096cc7a9f51/cache-91af86e7b2139866.arrow\n",
      "Loading cached processed dataset at /home/adityasv/.cache/huggingface/datasets/json/default-57983d352f331592/0.0.0/0f7e3662623656454fcd2b650f34e886a7db4b9104504885bd462096cc7a9f51/cache-df13b4bcbcbe6952.arrow\n",
      "Loading cached processed dataset at /home/adityasv/.cache/huggingface/datasets/json/default-57983d352f331592/0.0.0/0f7e3662623656454fcd2b650f34e886a7db4b9104504885bd462096cc7a9f51/cache-51cce469ca33d9b8.arrow\n",
      "Loading cached processed dataset at /home/adityasv/.cache/huggingface/datasets/json/default-57983d352f331592/0.0.0/0f7e3662623656454fcd2b650f34e886a7db4b9104504885bd462096cc7a9f51/cache-8d822a68a2551021.arrow\n",
      "Loading cached processed dataset at /home/adityasv/.cache/huggingface/datasets/json/default-57983d352f331592/0.0.0/0f7e3662623656454fcd2b650f34e886a7db4b9104504885bd462096cc7a9f51/cache-ca919cade0e4e062.arrow\n",
      "Loading cached processed dataset at /home/adityasv/.cache/huggingface/datasets/json/default-57983d352f331592/0.0.0/0f7e3662623656454fcd2b650f34e886a7db4b9104504885bd462096cc7a9f51/cache-da7a80d00e6e9d58.arrow\n",
      "Loading cached processed dataset at /home/adityasv/.cache/huggingface/datasets/json/default-57983d352f331592/0.0.0/0f7e3662623656454fcd2b650f34e886a7db4b9104504885bd462096cc7a9f51/cache-22c45b60890dd8fc.arrow\n",
      "Loading cached processed dataset at /home/adityasv/.cache/huggingface/datasets/json/default-57983d352f331592/0.0.0/0f7e3662623656454fcd2b650f34e886a7db4b9104504885bd462096cc7a9f51/cache-34c5010adbd9536a.arrow\n",
      "Loading cached processed dataset at /home/adityasv/.cache/huggingface/datasets/json/default-57983d352f331592/0.0.0/0f7e3662623656454fcd2b650f34e886a7db4b9104504885bd462096cc7a9f51/cache-9c8c804ea5e560b8.arrow\n",
      "Loading cached processed dataset at /home/adityasv/.cache/huggingface/datasets/json/default-57983d352f331592/0.0.0/0f7e3662623656454fcd2b650f34e886a7db4b9104504885bd462096cc7a9f51/cache-955b8a0f91bc5432.arrow\n",
      "Loading cached processed dataset at /home/adityasv/.cache/huggingface/datasets/json/default-57983d352f331592/0.0.0/0f7e3662623656454fcd2b650f34e886a7db4b9104504885bd462096cc7a9f51/cache-3b41c3fd5a7f7a9f.arrow\n",
      "Loading cached processed dataset at /home/adityasv/.cache/huggingface/datasets/json/default-57983d352f331592/0.0.0/0f7e3662623656454fcd2b650f34e886a7db4b9104504885bd462096cc7a9f51/cache-70b42c9142ae9077.arrow\n",
      "Loading cached processed dataset at /home/adityasv/.cache/huggingface/datasets/json/default-57983d352f331592/0.0.0/0f7e3662623656454fcd2b650f34e886a7db4b9104504885bd462096cc7a9f51/cache-ce5217df03c51705.arrow\n",
      "Loading cached processed dataset at /home/adityasv/.cache/huggingface/datasets/json/default-57983d352f331592/0.0.0/0f7e3662623656454fcd2b650f34e886a7db4b9104504885bd462096cc7a9f51/cache-638b7d57520ccd90.arrow\n",
      "Loading cached processed dataset at /home/adityasv/.cache/huggingface/datasets/json/default-57983d352f331592/0.0.0/0f7e3662623656454fcd2b650f34e886a7db4b9104504885bd462096cc7a9f51/cache-5d99875ccd9d2ec9.arrow\n",
      "Loading cached processed dataset at /home/adityasv/.cache/huggingface/datasets/json/default-57983d352f331592/0.0.0/0f7e3662623656454fcd2b650f34e886a7db4b9104504885bd462096cc7a9f51/cache-b116e9eb80136d77.arrow\n",
      "Loading cached processed dataset at /home/adityasv/.cache/huggingface/datasets/json/default-57983d352f331592/0.0.0/0f7e3662623656454fcd2b650f34e886a7db4b9104504885bd462096cc7a9f51/cache-b034f3470c441c32.arrow\n",
      "Loading cached processed dataset at /home/adityasv/.cache/huggingface/datasets/json/default-57983d352f331592/0.0.0/0f7e3662623656454fcd2b650f34e886a7db4b9104504885bd462096cc7a9f51/cache-3b5a4484d6dc9ebf.arrow\n",
      "Loading cached processed dataset at /home/adityasv/.cache/huggingface/datasets/json/default-57983d352f331592/0.0.0/0f7e3662623656454fcd2b650f34e886a7db4b9104504885bd462096cc7a9f51/cache-6c4cfa87868a7ab3.arrow\n",
      "Loading cached processed dataset at /home/adityasv/.cache/huggingface/datasets/json/default-57983d352f331592/0.0.0/0f7e3662623656454fcd2b650f34e886a7db4b9104504885bd462096cc7a9f51/cache-4405b61c870286ce.arrow\n",
      "Loading cached processed dataset at /home/adityasv/.cache/huggingface/datasets/json/default-57983d352f331592/0.0.0/0f7e3662623656454fcd2b650f34e886a7db4b9104504885bd462096cc7a9f51/cache-95a1dbd11afc583d.arrow\n",
      "Loading cached processed dataset at /home/adityasv/.cache/huggingface/datasets/json/default-57983d352f331592/0.0.0/0f7e3662623656454fcd2b650f34e886a7db4b9104504885bd462096cc7a9f51/cache-a49e836fbcf7c2d0.arrow\n",
      "Loading cached processed dataset at /home/adityasv/.cache/huggingface/datasets/json/default-57983d352f331592/0.0.0/0f7e3662623656454fcd2b650f34e886a7db4b9104504885bd462096cc7a9f51/cache-c86ee649dfd13ba4.arrow\n",
      "Loading cached processed dataset at /home/adityasv/.cache/huggingface/datasets/json/default-57983d352f331592/0.0.0/0f7e3662623656454fcd2b650f34e886a7db4b9104504885bd462096cc7a9f51/cache-e17e48d8d282bcc2.arrow\n",
      "Loading cached processed dataset at /home/adityasv/.cache/huggingface/datasets/json/default-57983d352f331592/0.0.0/0f7e3662623656454fcd2b650f34e886a7db4b9104504885bd462096cc7a9f51/cache-013fac3f2d9bdc43.arrow\n",
      "Loading cached processed dataset at /home/adityasv/.cache/huggingface/datasets/json/default-57983d352f331592/0.0.0/0f7e3662623656454fcd2b650f34e886a7db4b9104504885bd462096cc7a9f51/cache-bc4c59ca4a8c76d5.arrow\n",
      "Loading cached processed dataset at /home/adityasv/.cache/huggingface/datasets/json/default-57983d352f331592/0.0.0/0f7e3662623656454fcd2b650f34e886a7db4b9104504885bd462096cc7a9f51/cache-20e061eb60e2fc08.arrow\n",
      "Loading cached processed dataset at /home/adityasv/.cache/huggingface/datasets/json/default-57983d352f331592/0.0.0/0f7e3662623656454fcd2b650f34e886a7db4b9104504885bd462096cc7a9f51/cache-dd2bf7f50c64a995.arrow\n",
      "Loading cached processed dataset at /home/adityasv/.cache/huggingface/datasets/json/default-57983d352f331592/0.0.0/0f7e3662623656454fcd2b650f34e886a7db4b9104504885bd462096cc7a9f51/cache-efb84e7047693236.arrow\n",
      "Loading cached processed dataset at /home/adityasv/.cache/huggingface/datasets/json/default-57983d352f331592/0.0.0/0f7e3662623656454fcd2b650f34e886a7db4b9104504885bd462096cc7a9f51/cache-fde2c3fa3536e1ad.arrow\n",
      "Loading cached processed dataset at /home/adityasv/.cache/huggingface/datasets/json/default-57983d352f331592/0.0.0/0f7e3662623656454fcd2b650f34e886a7db4b9104504885bd462096cc7a9f51/cache-0563f9b75db041b3.arrow\n",
      "Loading cached processed dataset at /home/adityasv/.cache/huggingface/datasets/json/default-57983d352f331592/0.0.0/0f7e3662623656454fcd2b650f34e886a7db4b9104504885bd462096cc7a9f51/cache-906bfd658471e3da.arrow\n",
      "Loading cached processed dataset at /home/adityasv/.cache/huggingface/datasets/json/default-57983d352f331592/0.0.0/0f7e3662623656454fcd2b650f34e886a7db4b9104504885bd462096cc7a9f51/cache-c5688bb6884cbef3.arrow\n",
      "Loading cached processed dataset at /home/adityasv/.cache/huggingface/datasets/json/default-57983d352f331592/0.0.0/0f7e3662623656454fcd2b650f34e886a7db4b9104504885bd462096cc7a9f51/cache-89487706241814c6.arrow\n",
      "Loading cached processed dataset at /home/adityasv/.cache/huggingface/datasets/json/default-57983d352f331592/0.0.0/0f7e3662623656454fcd2b650f34e886a7db4b9104504885bd462096cc7a9f51/cache-eafa67e7553e2d28.arrow\n",
      "Loading cached processed dataset at /home/adityasv/.cache/huggingface/datasets/json/default-57983d352f331592/0.0.0/0f7e3662623656454fcd2b650f34e886a7db4b9104504885bd462096cc7a9f51/cache-c1199a23ce0e9399.arrow\n",
      "Loading cached processed dataset at /home/adityasv/.cache/huggingface/datasets/json/default-57983d352f331592/0.0.0/0f7e3662623656454fcd2b650f34e886a7db4b9104504885bd462096cc7a9f51/cache-d00ab723a6817440.arrow\n",
      "Loading cached processed dataset at /home/adityasv/.cache/huggingface/datasets/json/default-57983d352f331592/0.0.0/0f7e3662623656454fcd2b650f34e886a7db4b9104504885bd462096cc7a9f51/cache-3ffdfd91646c33e3.arrow\n",
      "Loading cached processed dataset at /home/adityasv/.cache/huggingface/datasets/json/default-57983d352f331592/0.0.0/0f7e3662623656454fcd2b650f34e886a7db4b9104504885bd462096cc7a9f51/cache-bd6fc0b5a85e5550.arrow\n",
      "Loading cached processed dataset at /home/adityasv/.cache/huggingface/datasets/json/default-57983d352f331592/0.0.0/0f7e3662623656454fcd2b650f34e886a7db4b9104504885bd462096cc7a9f51/cache-1622e30e215b21ec.arrow\n",
      "Loading cached processed dataset at /home/adityasv/.cache/huggingface/datasets/json/default-57983d352f331592/0.0.0/0f7e3662623656454fcd2b650f34e886a7db4b9104504885bd462096cc7a9f51/cache-74e58ce867ccedfb.arrow\n",
      "Loading cached processed dataset at /home/adityasv/.cache/huggingface/datasets/json/default-57983d352f331592/0.0.0/0f7e3662623656454fcd2b650f34e886a7db4b9104504885bd462096cc7a9f51/cache-144ce8d3ab504452.arrow\n",
      "Loading cached processed dataset at /home/adityasv/.cache/huggingface/datasets/json/default-57983d352f331592/0.0.0/0f7e3662623656454fcd2b650f34e886a7db4b9104504885bd462096cc7a9f51/cache-47ba26e0bda5ba6c.arrow\n",
      "Loading cached processed dataset at /home/adityasv/.cache/huggingface/datasets/json/default-57983d352f331592/0.0.0/0f7e3662623656454fcd2b650f34e886a7db4b9104504885bd462096cc7a9f51/cache-e292e14bd180b754.arrow\n",
      "Loading cached processed dataset at /home/adityasv/.cache/huggingface/datasets/json/default-57983d352f331592/0.0.0/0f7e3662623656454fcd2b650f34e886a7db4b9104504885bd462096cc7a9f51/cache-f49a76593052bd5b.arrow\n",
      "Loading cached processed dataset at /home/adityasv/.cache/huggingface/datasets/json/default-57983d352f331592/0.0.0/0f7e3662623656454fcd2b650f34e886a7db4b9104504885bd462096cc7a9f51/cache-431446abdb74e982.arrow\n",
      "Loading cached processed dataset at /home/adityasv/.cache/huggingface/datasets/json/default-57983d352f331592/0.0.0/0f7e3662623656454fcd2b650f34e886a7db4b9104504885bd462096cc7a9f51/cache-45e26e765e207afa.arrow\n",
      "Loading cached processed dataset at /home/adityasv/.cache/huggingface/datasets/json/default-57983d352f331592/0.0.0/0f7e3662623656454fcd2b650f34e886a7db4b9104504885bd462096cc7a9f51/cache-d693fe3fc9d8b676.arrow\n",
      "Loading cached processed dataset at /home/adityasv/.cache/huggingface/datasets/json/default-57983d352f331592/0.0.0/0f7e3662623656454fcd2b650f34e886a7db4b9104504885bd462096cc7a9f51/cache-948498d8d22b5079.arrow\n",
      "Loading cached processed dataset at /home/adityasv/.cache/huggingface/datasets/json/default-57983d352f331592/0.0.0/0f7e3662623656454fcd2b650f34e886a7db4b9104504885bd462096cc7a9f51/cache-fabc8749b3f05cc0.arrow\n"
     ]
    }
   ],
   "source": [
    "no_debias_outputs = compute_stratified_tpr(no_debias, 'g')\n",
    "debias_after_outputs = compute_stratified_tpr(debias_after, 'g')\n",
    "debias_before_outputs = compute_stratified_tpr(debias_before, 'g')"
   ]
  },
  {
   "cell_type": "code",
   "execution_count": 11,
   "metadata": {},
   "outputs": [
    {
     "data": {
      "text/plain": [
       "0.13"
      ]
     },
     "execution_count": 11,
     "metadata": {},
     "output_type": "execute_result"
    }
   ],
   "source": [
    "mean_gap = 0\n",
    "for label in no_debias_outputs:\n",
    "    male = no_debias_outputs[label]['m']\n",
    "    female = no_debias_outputs[label]['f']\n",
    "    mean_gap += (male - female)**2\n",
    "round((mean_gap/len(no_debias_outputs))**0.5,2)\n"
   ]
  },
  {
   "cell_type": "code",
   "execution_count": 9,
   "metadata": {},
   "outputs": [
    {
     "data": {
      "text/plain": [
       "0.13"
      ]
     },
     "execution_count": 9,
     "metadata": {},
     "output_type": "execute_result"
    }
   ],
   "source": [
    "mean_gap = 0\n",
    "for label in debias_before_outputs:\n",
    "    male = debias_before_outputs[label]['m']\n",
    "    female = debias_before_outputs[label]['f']\n",
    "    mean_gap += (male - female)**2\n",
    "round((mean_gap/len(debias_before_outputs))**0.5,2)\n"
   ]
  },
  {
   "cell_type": "code",
   "execution_count": 10,
   "metadata": {},
   "outputs": [
    {
     "data": {
      "text/plain": [
       "0.11"
      ]
     },
     "execution_count": 10,
     "metadata": {},
     "output_type": "execute_result"
    }
   ],
   "source": [
    "mean_gap = 0\n",
    "for label in debias_after_outputs:\n",
    "    male = debias_after_outputs[label]['m']\n",
    "    female = debias_after_outputs[label]['f']\n",
    "    mean_gap += (male - female)**2\n",
    "round((mean_gap/len(debias_after_outputs))**0.5,2)\n"
   ]
  }
 ],
 "metadata": {
  "kernelspec": {
   "display_name": "Python 3.10.9 ('11830')",
   "language": "python",
   "name": "python3"
  },
  "language_info": {
   "codemirror_mode": {
    "name": "ipython",
    "version": 3
   },
   "file_extension": ".py",
   "mimetype": "text/x-python",
   "name": "python",
   "nbconvert_exporter": "python",
   "pygments_lexer": "ipython3",
   "version": "3.10.9"
  },
  "orig_nbformat": 4,
  "vscode": {
   "interpreter": {
    "hash": "aaf69955a5f8bbcad8bf2f6631b76795b8af3d5f182315144adde179545888ff"
   }
  }
 },
 "nbformat": 4,
 "nbformat_minor": 2
}
